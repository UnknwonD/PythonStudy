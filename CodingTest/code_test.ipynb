{
 "cells": [
  {
   "cell_type": "code",
   "execution_count": 126,
   "metadata": {},
   "outputs": [],
   "source": [
    "def solution(brown, red):\n",
    "    for i in range(1, int(red**(1/2))+1):\n",
    "        if red % i == 0:\n",
    "            if 2*(i + red//i) == brown-4:\n",
    "                return [red//i+2, i+2]"
   ]
  },
  {
   "cell_type": "code",
   "execution_count": 127,
   "metadata": {},
   "outputs": [
    {
     "data": {
      "text/plain": [
       "[8, 6]"
      ]
     },
     "execution_count": 127,
     "metadata": {},
     "output_type": "execute_result"
    }
   ],
   "source": [
    "solution(24, 24)"
   ]
  },
  {
   "cell_type": "code",
   "execution_count": 224,
   "metadata": {},
   "outputs": [],
   "source": [
    "def solution(people, limit):\n",
    "    people.sort()\n",
    "    left, right = 0, len(people) - 1\n",
    "    boats = 0\n",
    "\n",
    "    while left <= right:\n",
    "        if people[left] + people[right] <= limit:\n",
    "            left += 1\n",
    "        right -= 1\n",
    "        boats += 1\n",
    "\n",
    "    return boats"
   ]
  },
  {
   "cell_type": "code",
   "execution_count": 222,
   "metadata": {},
   "outputs": [
    {
     "data": {
      "text/plain": [
       "5"
      ]
     },
     "execution_count": 222,
     "metadata": {},
     "output_type": "execute_result"
    }
   ],
   "source": [
    "solution([70, 50, 80, 50, 120, 30, 10, 50], 120)"
   ]
  },
  {
   "cell_type": "code",
   "execution_count": 223,
   "metadata": {},
   "outputs": [
    {
     "data": {
      "text/plain": [
       "3"
      ]
     },
     "execution_count": 223,
     "metadata": {},
     "output_type": "execute_result"
    }
   ],
   "source": [
    "solution([70, 50, 80, 50], 100)"
   ]
  },
  {
   "cell_type": "code",
   "execution_count": 10,
   "metadata": {},
   "outputs": [],
   "source": [
    "import re\n",
    "\n",
    "def split_special_strings(input_list):\n",
    "    pattern = re.compile(r'(\\$[^$]+\\$♣️[^♣️]+\\♣️)')\n",
    "    \n",
    "    result = []\n",
    "    for item in input_list:\n",
    "        split_result = pattern.split(item)\n",
    "        temp_result = []\n",
    "        \n",
    "        for part in split_result:\n",
    "                if pattern.match(part):\n",
    "                    inner_parts = re.split(r'(\\$\\$[^$]+\\$|♣️[^♣️]+\\♣️)', part)\n",
    "                    temp_result.extend([p for p in inner_parts if p])\n",
    "                else:\n",
    "                    temp_result.append(part)\n",
    "        \n",
    "        result.extend(temp_result)\n",
    "    \n",
    "    return result"
   ]
  },
  {
   "cell_type": "code",
   "execution_count": 11,
   "metadata": {},
   "outputs": [
    {
     "name": "stdout",
     "output_type": "stream",
     "text": [
      "['문장 ', '$문구1$', '♣️문구2♣️', ' 문장 ', '$문구1$', '♣️문구2♣️', '', '$문구1$', '♣️문구2♣️', '', '또다른 문장 ', '$문구3$', '♣️문구4♣️', ' 다른 문장']\n"
     ]
    }
   ],
   "source": [
    "input_list = [\n",
    "    \"문장 $문구1$♣️문구2♣️ 문장 $문구1$♣️문구2♣️$문구1$♣️문구2♣️\",\n",
    "    \"또다른 문장 $문구3$♣️문구4♣️ 다른 문장\"\n",
    "]\n",
    "\n",
    "output = split_special_strings(input_list)\n",
    "print(output)\n"
   ]
  },
  {
   "cell_type": "code",
   "execution_count": 1,
   "metadata": {},
   "outputs": [],
   "source": [
    "def solution(numbers): \n",
    "    tmp = sorted([(i, int((str(num)*8)[:6])) for i, num in enumerate(numbers)], key=lambda x: -x[1])\n",
    "    answer = ''\n",
    "    for i, _ in tmp: answer += str(numbers[i])\n",
    "    return answer if answer[0] != '0' else '0'"
   ]
  },
  {
   "cell_type": "code",
   "execution_count": 2,
   "metadata": {},
   "outputs": [
    {
     "data": {
      "text/plain": [
       "'999899798998988'"
      ]
     },
     "execution_count": 2,
     "metadata": {},
     "output_type": "execute_result"
    }
   ],
   "source": [
    "solution([9, 98, 997, 988, 989, 998])"
   ]
  },
  {
   "cell_type": "code",
   "execution_count": 7,
   "metadata": {},
   "outputs": [
    {
     "name": "stdout",
     "output_type": "stream",
     "text": [
      "No Yes Yes "
     ]
    }
   ],
   "source": [
    "N = 5\n",
    "numbers = [8, 3, 7, 9, 2]\n",
    "M = 3\n",
    "\n",
    "def binary_search(start, end, target):\n",
    "    mid = (start + end) // 2\n",
    "\n",
    "    if start > end:\n",
    "        return None\n",
    "\n",
    "    if numbers[mid] == target:\n",
    "        return target\n",
    "    elif numbers[mid] > target:\n",
    "        end = mid - 1\n",
    "        return binary_search(start, end, target)\n",
    "    elif numbers[mid] < target:\n",
    "        start = mid + 1\n",
    "        return binary_search(start, end, target)\n",
    "    return None\n",
    "    \n",
    "answer = []\n",
    "numbers = sorted(numbers)\n",
    "for target in [5, 7, 9]:\n",
    "    result = binary_search(0, len(numbers)-1, target)\n",
    "\n",
    "    if result == None:\n",
    "        print('No', end=' ')\n",
    "    else:\n",
    "        print ('Yes', end=' ')"
   ]
  },
  {
   "cell_type": "code",
   "execution_count": null,
   "metadata": {},
   "outputs": [],
   "source": [
    "n, m = map(int, input().split())\n",
    "\n",
    "array = list(map(int, input().split()))\n",
    "\n",
    "def search(start, end):\n",
    "    mid = (start + end) // 2\n",
    "\n",
    "    total = 0\n",
    "\n",
    "    for cake in array:\n",
    "        total += max(cake - mid, 0)\n",
    "    \n",
    "    if total == m:\n",
    "        return mid\n",
    "    elif total > m:\n",
    "        return search(mid+1, end)\n",
    "    else:\n",
    "        return search(start, mid-1)\n",
    "\n",
    "search(0, max(array))    \n"
   ]
  },
  {
   "cell_type": "code",
   "execution_count": 9,
   "metadata": {},
   "outputs": [
    {
     "name": "stdout",
     "output_type": "stream",
     "text": [
      "3\n"
     ]
    }
   ],
   "source": [
    "x = int(input())\n",
    "\n",
    "d = [0] * 30001\n",
    "\n",
    "for i in range(2, x+1):\n",
    "    d[i] = d[i-1] + 1\n",
    "\n",
    "    if i%2 == 0:\n",
    "        d[i] = min(d[i], d[i//2]+1)\n",
    "    \n",
    "    if i%3 == 0:\n",
    "        d[i] = min(d[i], d[i//3] + 1)\n",
    "    \n",
    "    if i%5 == 0:\n",
    "        d[i] = min(d[i], d[i//5] + 1)\n",
    "\n",
    "print(d[x])"
   ]
  },
  {
   "cell_type": "code",
   "execution_count": 10,
   "metadata": {},
   "outputs": [
    {
     "name": "stdout",
     "output_type": "stream",
     "text": [
      "8\n"
     ]
    }
   ],
   "source": [
    "n = int(input())\n",
    "array = list(map(int, input().split()))\n",
    "\n",
    "d = [0]*100\n",
    "\n",
    "d[0] = array[0]\n",
    "d[1] = max(array[0], array[1])\n",
    "\n",
    "for i in range(2, n):\n",
    "    d[i] = max(d[i-1], d[i-2] + array[i])\n",
    "\n",
    "print(d[n-1])"
   ]
  },
  {
   "cell_type": "code",
   "execution_count": 30,
   "metadata": {},
   "outputs": [
    {
     "name": "stdout",
     "output_type": "stream",
     "text": [
      "7 3\n",
      "7 5\n"
     ]
    },
    {
     "data": {
      "text/plain": [
       "2"
      ]
     },
     "execution_count": 30,
     "metadata": {},
     "output_type": "execute_result"
    }
   ],
   "source": [
    "n, m = map(int, input().split())\n",
    "\n",
    "money = []\n",
    "dp = [10001] * m\n",
    "dp[0] = 0\n",
    "for i in range(n):\n",
    "    money.append(int(input()))\n",
    "\n",
    "for mon in money:\n",
    "\n",
    "    for i in range(m+1):\n",
    "        # print(i, mon)\n",
    "        if i % mon == 0: # 현재 화폐로 만들 수 있는 경우\n",
    "            dp[i] = i//mon\n",
    "        elif  i > mon+1 and dp[i-mon] != 10001:\n",
    "            try:\n",
    "                dp[i] = dp[i-mon] + 1\n",
    "            except:\n",
    "                print(i, mon)\n",
    "\n",
    "\n",
    "dp[m-1] "
   ]
  },
  {
   "cell_type": "code",
   "execution_count": 24,
   "metadata": {},
   "outputs": [
    {
     "data": {
      "text/plain": [
       "[0, 10001, 1, 1, 10001, 1, 10001]"
      ]
     },
     "execution_count": 24,
     "metadata": {},
     "output_type": "execute_result"
    }
   ],
   "source": [
    "dp"
   ]
  },
  {
   "cell_type": "code",
   "execution_count": null,
   "metadata": {},
   "outputs": [
    {
     "name": "stdout",
     "output_type": "stream",
     "text": [
      "11060446\n"
     ]
    }
   ],
   "source": [
    "n = int(input())\n",
    "\n",
    "start, end = 0, n\n",
    "\n",
    "while start <= end:\n",
    "    mid = (start + end) // 2\n",
    "\n",
    "    if mid**2 < n:\n",
    "        start = mid + 1\n",
    "    else:\n",
    "        end = mid - 1\n",
    "\n",
    "print(start)"
   ]
  },
  {
   "cell_type": "code",
   "execution_count": 95,
   "metadata": {},
   "outputs": [],
   "source": [
    "n = int(input())\n",
    "now = list(map(int, input().split()))\n",
    "hope = list(map(int, input().split()))"
   ]
  },
  {
   "cell_type": "code",
   "execution_count": 99,
   "metadata": {},
   "outputs": [],
   "source": [
    "n = 5\n",
    "now = [2, 2, 3, 3, 3]\n",
    "hope = [3, 3, 1, 2, 2]"
   ]
  },
  {
   "cell_type": "code",
   "execution_count": null,
   "metadata": {},
   "outputs": [
    {
     "name": "stdout",
     "output_type": "stream",
     "text": [
      "2 3 -1\n",
      "2 3 -1\n",
      "3 1 1\n",
      "3 2 2\n",
      "3 2 2\n"
     ]
    }
   ],
   "source": [
    "\n",
    "\n",
    "for i, (w, h) in enumerate(zip(now, hope)):\n",
    "    cur = binary_search(i, n-1, h)\n",
    "    print(w, h, cur)\n",
    "\n",
    "    if cur != -1:\n",
    "        tmp = hope[i]\n",
    "        hope[i] = hope[cur]\n",
    "        hope[cur] = tmp"
   ]
  },
  {
   "cell_type": "code",
   "execution_count": 101,
   "metadata": {},
   "outputs": [
    {
     "name": "stdout",
     "output_type": "stream",
     "text": [
      "2 3\n",
      "2 1\n",
      "3 2\n",
      "3 3\n",
      "3 2\n"
     ]
    }
   ],
   "source": [
    "for n_, h in zip(now,hope):\n",
    "    print(n_, h)"
   ]
  },
  {
   "cell_type": "code",
   "execution_count": null,
   "metadata": {},
   "outputs": [],
   "source": []
  }
 ],
 "metadata": {
  "kernelspec": {
   "display_name": "tf_ds",
   "language": "python",
   "name": "python3"
  },
  "language_info": {
   "codemirror_mode": {
    "name": "ipython",
    "version": 3
   },
   "file_extension": ".py",
   "mimetype": "text/x-python",
   "name": "python",
   "nbconvert_exporter": "python",
   "pygments_lexer": "ipython3",
   "version": "3.9.19"
  }
 },
 "nbformat": 4,
 "nbformat_minor": 2
}
