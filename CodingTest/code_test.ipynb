{
 "cells": [
  {
   "cell_type": "code",
   "execution_count": 126,
   "metadata": {},
   "outputs": [],
   "source": [
    "def solution(brown, red):\n",
    "    for i in range(1, int(red**(1/2))+1):\n",
    "        if red % i == 0:\n",
    "            if 2*(i + red//i) == brown-4:\n",
    "                return [red//i+2, i+2]"
   ]
  },
  {
   "cell_type": "code",
   "execution_count": 127,
   "metadata": {},
   "outputs": [
    {
     "data": {
      "text/plain": [
       "[8, 6]"
      ]
     },
     "execution_count": 127,
     "metadata": {},
     "output_type": "execute_result"
    }
   ],
   "source": [
    "solution(24, 24)"
   ]
  },
  {
   "cell_type": "code",
   "execution_count": 224,
   "metadata": {},
   "outputs": [],
   "source": [
    "def solution(people, limit):\n",
    "    people.sort()\n",
    "    left, right = 0, len(people) - 1\n",
    "    boats = 0\n",
    "\n",
    "    while left <= right:\n",
    "        if people[left] + people[right] <= limit:\n",
    "            left += 1\n",
    "        right -= 1\n",
    "        boats += 1\n",
    "\n",
    "    return boats"
   ]
  },
  {
   "cell_type": "code",
   "execution_count": 222,
   "metadata": {},
   "outputs": [
    {
     "data": {
      "text/plain": [
       "5"
      ]
     },
     "execution_count": 222,
     "metadata": {},
     "output_type": "execute_result"
    }
   ],
   "source": [
    "solution([70, 50, 80, 50, 120, 30, 10, 50], 120)"
   ]
  },
  {
   "cell_type": "code",
   "execution_count": 223,
   "metadata": {},
   "outputs": [
    {
     "data": {
      "text/plain": [
       "3"
      ]
     },
     "execution_count": 223,
     "metadata": {},
     "output_type": "execute_result"
    }
   ],
   "source": [
    "solution([70, 50, 80, 50], 100)"
   ]
  },
  {
   "cell_type": "code",
   "execution_count": 10,
   "metadata": {},
   "outputs": [],
   "source": [
    "import re\n",
    "\n",
    "def split_special_strings(input_list):\n",
    "    pattern = re.compile(r'(\\$[^$]+\\$♣️[^♣️]+\\♣️)')\n",
    "    \n",
    "    result = []\n",
    "    for item in input_list:\n",
    "        split_result = pattern.split(item)\n",
    "        temp_result = []\n",
    "        \n",
    "        for part in split_result:\n",
    "                if pattern.match(part):\n",
    "                    inner_parts = re.split(r'(\\$\\$[^$]+\\$|♣️[^♣️]+\\♣️)', part)\n",
    "                    temp_result.extend([p for p in inner_parts if p])\n",
    "                else:\n",
    "                    temp_result.append(part)\n",
    "        \n",
    "        result.extend(temp_result)\n",
    "    \n",
    "    return result"
   ]
  },
  {
   "cell_type": "code",
   "execution_count": 11,
   "metadata": {},
   "outputs": [
    {
     "name": "stdout",
     "output_type": "stream",
     "text": [
      "['문장 ', '$문구1$', '♣️문구2♣️', ' 문장 ', '$문구1$', '♣️문구2♣️', '', '$문구1$', '♣️문구2♣️', '', '또다른 문장 ', '$문구3$', '♣️문구4♣️', ' 다른 문장']\n"
     ]
    }
   ],
   "source": [
    "input_list = [\n",
    "    \"문장 $문구1$♣️문구2♣️ 문장 $문구1$♣️문구2♣️$문구1$♣️문구2♣️\",\n",
    "    \"또다른 문장 $문구3$♣️문구4♣️ 다른 문장\"\n",
    "]\n",
    "\n",
    "output = split_special_strings(input_list)\n",
    "print(output)\n"
   ]
  },
  {
   "cell_type": "code",
   "execution_count": null,
   "metadata": {},
   "outputs": [],
   "source": []
  },
  {
   "cell_type": "code",
   "execution_count": null,
   "metadata": {},
   "outputs": [],
   "source": []
  },
  {
   "cell_type": "code",
   "execution_count": null,
   "metadata": {},
   "outputs": [],
   "source": []
  }
 ],
 "metadata": {
  "kernelspec": {
   "display_name": "tf_ds",
   "language": "python",
   "name": "python3"
  },
  "language_info": {
   "codemirror_mode": {
    "name": "ipython",
    "version": 3
   },
   "file_extension": ".py",
   "mimetype": "text/x-python",
   "name": "python",
   "nbconvert_exporter": "python",
   "pygments_lexer": "ipython3",
   "version": "3.9.19"
  }
 },
 "nbformat": 4,
 "nbformat_minor": 2
}
