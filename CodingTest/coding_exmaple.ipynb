{
 "cells": [
  {
   "cell_type": "code",
   "execution_count": 2,
   "metadata": {},
   "outputs": [
    {
     "name": "stdout",
     "output_type": "stream",
     "text": [
      "(-2, 1)\n",
      "(-2, -1)\n",
      "(2, -1)\n",
      "(2, 1)\n",
      "(1, -2)\n",
      "(-1, -2)\n",
      "(1, -2)\n",
      "(1, 2)\n",
      "2\n"
     ]
    }
   ],
   "source": [
    "# 117\n",
    "pos = input()\n",
    "mapping = {'a':0, 'b':1, 'c':2, 'd':3, 'e':4, 'f':5, 'g':6, 'h':7}\n",
    "pos = (mapping[pos[0]], int(pos[1])-1)\n",
    "steps = [(-2, 1), (-2, -1), (2, -1), (2, 1), (1, -2), (-1, -2), (1, -2), (1, 2)]\n",
    "\n",
    "cnt = 0\n",
    "for step in steps:\n",
    "    moved = (pos[0] + step[0], pos[1] + step[1])\n",
    "    print(moved)\n",
    "    if moved[0] < 0 or moved[0] > 7 or moved[1] < 0 or moved[1] > 7:\n",
    "        continue\n",
    "    cnt += 1\n",
    "print(cnt)"
   ]
  },
  {
   "cell_type": "code",
   "execution_count": 16,
   "metadata": {},
   "outputs": [
    {
     "name": "stdout",
     "output_type": "stream",
     "text": [
      "[1, 1, 3]\n",
      "[1, 1, 2]\n",
      "[1, 1, 1]\n",
      "[1, 2, 3]\n",
      "[1, 1, 2]\n",
      "[1, 1, 1]\n",
      "[1, 1, 3]\n",
      "[1, 1, 2]\n",
      "2\n"
     ]
    }
   ],
   "source": [
    "# 4-4py 121p\n",
    "n, m = map(int, input().split())\n",
    "x, y, dir = map(int, input().split())\n",
    "\n",
    "field = []\n",
    "visited = [[0] * m for _ in range(n)]\n",
    "\n",
    "for i in range(n):\n",
    "    row = [int(r) for r in input().split()]\n",
    "    field.append(row)\n",
    "\n",
    "cur = [x, y, dir]\n",
    "dx = [-1, 0, 1, 0]\n",
    "dy = [0, 1, 0, -1]\n",
    "\n",
    "total_cnt, fin_cnt = 1, 0 # 시작점 위치를 방문했으니, total_cnt는 1부터 시작\n",
    "\n",
    "while True:\n",
    "    # 왼쪽방향 확인\n",
    "    if cur[2] - 1 > 0:\n",
    "        cur[2] = cur[2]-1\n",
    "    else:\n",
    "        cur[2] = 3\n",
    "    print(cur)\n",
    "    \n",
    "    nx = cur[0] + dx[cur[2]]\n",
    "    ny = cur[1] + dy[cur[2]]\n",
    "    \n",
    "    if field[nx][ny] == 0 and visited[nx][ny] == 0: # 갈 곳이 없음\n",
    "        fin_cnt = 0\n",
    "        total_cnt += 1\n",
    "        visited[nx][ny] = 1\n",
    "        cur[0], cur[1] = nx, ny\n",
    "        continue\n",
    "    else:\n",
    "        fin_cnt += 1# 갈 수 있는 경우\n",
    "        \n",
    "        \n",
    "    if fin_cnt == 4: # 기존 방향으로 돌아왔을 때,\n",
    "        nx = cur[0] - dx[cur[2]]\n",
    "        ny = cur[1] - dy[cur[2]]\n",
    "        \n",
    "        if field[nx][ny] == 0:\n",
    "            x = nx\n",
    "            y = ny\n",
    "        else:\n",
    "            break\n",
    "\n",
    "print(total_cnt)"
   ]
  },
  {
   "cell_type": "code",
   "execution_count": 9,
   "metadata": {},
   "outputs": [
    {
     "data": {
      "text/plain": [
       "[[1, 1, 1, 1], [1, 0, 0, 1], [1, 1, 0, 1], [1, 1, 1, 1]]"
      ]
     },
     "execution_count": 9,
     "metadata": {},
     "output_type": "execute_result"
    }
   ],
   "source": [
    "field"
   ]
  },
  {
   "cell_type": "code",
   "execution_count": null,
   "metadata": {},
   "outputs": [],
   "source": []
  }
 ],
 "metadata": {
  "kernelspec": {
   "display_name": "tf_cap",
   "language": "python",
   "name": "python3"
  },
  "language_info": {
   "codemirror_mode": {
    "name": "ipython",
    "version": 3
   },
   "file_extension": ".py",
   "mimetype": "text/x-python",
   "name": "python",
   "nbconvert_exporter": "python",
   "pygments_lexer": "ipython3",
   "version": "3.9.18"
  }
 },
 "nbformat": 4,
 "nbformat_minor": 2
}
