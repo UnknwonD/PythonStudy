{
 "cells": [
  {
   "cell_type": "code",
   "execution_count": 2,
   "metadata": {},
   "outputs": [
    {
     "name": "stdout",
     "output_type": "stream",
     "text": [
      "(-2, 1)\n",
      "(-2, -1)\n",
      "(2, -1)\n",
      "(2, 1)\n",
      "(1, -2)\n",
      "(-1, -2)\n",
      "(1, -2)\n",
      "(1, 2)\n",
      "2\n"
     ]
    }
   ],
   "source": [
    "# 117\n",
    "pos = input()\n",
    "mapping = {'a':0, 'b':1, 'c':2, 'd':3, 'e':4, 'f':5, 'g':6, 'h':7}\n",
    "pos = (mapping[pos[0]], int(pos[1])-1)\n",
    "steps = [(-2, 1), (-2, -1), (2, -1), (2, 1), (1, -2), (-1, -2), (1, -2), (1, 2)]\n",
    "\n",
    "cnt = 0\n",
    "for step in steps:\n",
    "    moved = (pos[0] + step[0], pos[1] + step[1])\n",
    "    print(moved)\n",
    "    if moved[0] < 0 or moved[0] > 7 or moved[1] < 0 or moved[1] > 7:\n",
    "        continue\n",
    "    cnt += 1\n",
    "print(cnt)"
   ]
  },
  {
   "cell_type": "code",
   "execution_count": null,
   "metadata": {},
   "outputs": [],
   "source": []
  }
 ],
 "metadata": {
  "kernelspec": {
   "display_name": "tf_cap",
   "language": "python",
   "name": "python3"
  },
  "language_info": {
   "codemirror_mode": {
    "name": "ipython",
    "version": 3
   },
   "file_extension": ".py",
   "mimetype": "text/x-python",
   "name": "python",
   "nbconvert_exporter": "python",
   "pygments_lexer": "ipython3",
   "version": "3.9.18"
  }
 },
 "nbformat": 4,
 "nbformat_minor": 2
}
