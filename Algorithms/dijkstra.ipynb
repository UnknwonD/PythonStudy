{
 "cells": [
  {
   "cell_type": "markdown",
   "metadata": {},
   "source": [
    "# 1. 최단거리 알고리즘\n",
    "\n",
    "## 1) 다익스트라\n",
    "\n",
    "- 특정한 노드에서 출발하여 다른 노드로 가는 각각의 최단 경로를 구해주는 알고리즘\n",
    "- 그리디 알고리즘 : 매번 가장 비용이 적은 노드를 선택하여 임의의 과정을 반복\n",
    "- 1차원 리스트 : 각 노드에 대한 현재까지의 최단 거리 정보를 항상 1차원 리스트에 저장하고 계속 갱신함\n",
    "- int(1e9) : 1차원 리스트를 초기화하는 값은 무한대로 지정, 이 때, 파이썬은 1e9를 실수형으로 처리하기에 int형 변환\n",
    "\n",
    "\n",
    "### 구현 방식\n",
    "1. 출발 노드를 설정\n",
    "2. 최단 거리 테이블을 초기화\n",
    "3. 방문하지 않은 노드 중에서 최단 거리가 짧은 노드를 선택\n",
    "4. 해당 노드를 거쳐 다른 노드로 가는 비용을 계산하여 최단 거리 테이블을 갱신\n",
    "5. 위 과정에서 3, 4를 반복\n",
    "\n",
    "### 1-1) 간단한 다익스트라 알고리즘\n",
    "\n",
    "- 시간 복잡도 : O(V^2) [V = 노드의 개수]\n",
    "- 매 단계마다 방문하지 않은 노드 중에서 최단 거리가 가장 짧은 노드를 선택하기 위해 매 단계마다 1차원 리스트의 모든 원소를 순차탐색함\n",
    "- 다익스트라의 경우 입력되는 데이터의 수가 많을 수 있다.\n",
    "- 따라서 input() 함수를 sys.std.readline()으로 치환하여 사용한다.\n",
    "- DFS, BFS와 같이 노드의 번호를 맞춰주기 위해 리스트의 크기는 V+1로 선언한다."
   ]
  },
  {
   "cell_type": "code",
   "execution_count": 2,
   "metadata": {},
   "outputs": [
    {
     "ename": "IndentationError",
     "evalue": "expected an indented block (2596351554.py, line 59)",
     "output_type": "error",
     "traceback": [
      "\u001b[0;36m  Cell \u001b[0;32mIn[2], line 59\u001b[0;36m\u001b[0m\n\u001b[0;31m    for i in range(1, n + 1):\u001b[0m\n\u001b[0m                             ^\u001b[0m\n\u001b[0;31mIndentationError\u001b[0m\u001b[0;31m:\u001b[0m expected an indented block\n"
     ]
    }
   ],
   "source": [
    "import sys\n",
    "\n",
    "input = sys.std.readline\n",
    "INF = int(1e9)\n",
    "\n",
    "# 노드의 개수, 간선의 개수 입력\n",
    "n, m = map(int, input().split())\n",
    "# 시작 노드 번호\n",
    "start = int(input())\n",
    "# 각 노드에 연결되어 있는 노드에 대한 정보를 담는 리스트\n",
    "graph = [[] for i in range(n+1)]\n",
    "# 방문여부 기록 리스트\n",
    "visited = [False] * (n+1)\n",
    "# 최단 거리 테이블을 무한으로 초기화\n",
    "distance = [INF] * (n+1)\n",
    "\n",
    "# 간선정보 입력받기\n",
    "for _ in range(m):\n",
    "    a, b, c = map(int, input().split())\n",
    "    graph[a].append((b, c))\n",
    "    \n",
    "\n",
    "# 방문하지 않은 노드 중에서 가장 길이가 짧은 노드 반환\n",
    "def get_smallest_node():\n",
    "    min_value = INF\n",
    "    index = 0    \n",
    "    for i in range(1, n+1):\n",
    "        if distance[i] < min_value and not visited[i]:\n",
    "            min_value = distance[i]\n",
    "            index = i\n",
    "    return index\n",
    "\n",
    "def dijkstra(start):\n",
    "    # 시작 노드에 대해 초기화\n",
    "    distance[start] = 0\n",
    "    visited[start] = True\n",
    "    \n",
    "    # 인접 노드의 거리 초기화\n",
    "    for j in graph[start]:\n",
    "        distance[j[0]] = j[1]\n",
    "    \n",
    "    # 시작 노드를 제외한 n - 1 개의 노드에 대해 반복\n",
    "    for i in range(n-1):\n",
    "        # 현재 최단 거리가 가장 짧은 노드를 꺼내서 방문처리\n",
    "        now = get_smallest_node()\n",
    "        visited[now] = True\n",
    "        \n",
    "        # 현재 노드와 연결된 다른 노드를 확인\n",
    "        for j in graph[now]:\n",
    "            cost = distance[now] + j[1]\n",
    "            \n",
    "            # 현재 노드를 거쳐서 다른 노드로 이동하는 거리가 더 짧은 경우\n",
    "            if cost < distance[j[0]]:\n",
    "                distance[j[0]] = cost\n",
    "                \n",
    "dijkstra(start)\n",
    "\n",
    "# 모든 노드로 가기 위한 최단 거리를 출력\n",
    "for i in range(1, n + 1):\n",
    "    # 도달할 수 없는 경우 INFINITY 출력\n",
    "    if distance[i] == INF:\n",
    "        print(\"INFINITY\")\n",
    "    else:\n",
    "        print(distance[i])"
   ]
  },
  {
   "cell_type": "code",
   "execution_count": null,
   "metadata": {},
   "outputs": [],
   "source": []
  }
 ],
 "metadata": {
  "kernelspec": {
   "display_name": "tf_cap",
   "language": "python",
   "name": "python3"
  },
  "language_info": {
   "codemirror_mode": {
    "name": "ipython",
    "version": 3
   },
   "file_extension": ".py",
   "mimetype": "text/x-python",
   "name": "python",
   "nbconvert_exporter": "python",
   "pygments_lexer": "ipython3",
   "version": "3.9.18"
  }
 },
 "nbformat": 4,
 "nbformat_minor": 2
}
