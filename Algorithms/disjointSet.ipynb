{
 "cells": [
  {
   "cell_type": "code",
   "execution_count": 1,
   "metadata": {},
   "outputs": [],
   "source": [
    "# 특정 원소가 속한 집합을 찾기\n",
    "def find_parent(parent, x):\n",
    "    # 루트노드가 아니라면, 루트노드를 찾을 때까지 재귀호출\n",
    "    if parent[x] != x:\n",
    "        return find_parent(parent, parent[x])\n",
    "    return x\n",
    "\n",
    "\n",
    "# 두 원소가 속한 집합을 합치기\n",
    "def union_parent(parent, a, b):\n",
    "    a = find_parent(parent, a)\n",
    "    b = find_parent(parent, b)\n",
    "\n",
    "    if a < b:\n",
    "        parent[b] = a\n",
    "    else:\n",
    "        parent[a] = b"
   ]
  },
  {
   "cell_type": "code",
   "execution_count": 3,
   "metadata": {},
   "outputs": [
    {
     "name": "stdout",
     "output_type": "stream",
     "text": [
      "각 원소가 속한 집합 : 1 1 1 1 5 5 \n",
      "부모 테이블 : 1 1 2 1 5 5 "
     ]
    }
   ],
   "source": [
    "# 노드의 개수와 간선(union 연산)의 개수 입력\n",
    "v, e = map(int, input().split())\n",
    "\n",
    "# 부모 테이블 상에서 부모를 자기 자신으로 초기화\n",
    "parent = [i for i in range(v+1)]\n",
    "\n",
    "# union 연산을 각각 수행\n",
    "for i in range(e):\n",
    "    a, b, = map(int, input().split())\n",
    "    union_parent(parent, a, b)\n",
    "\n",
    "# 각 원소가 속한 집합 출력\n",
    "print(\"각 원소가 속한 집합 : \", end = '')\n",
    "for i in range(1, v+1):\n",
    "    print(find_parent(parent, i), end = ' ')\n",
    "\n",
    "print()\n",
    "\n",
    "# 부모 테이블 내용 출력\n",
    "print(\"부모 테이블 : \", end='')\n",
    "for i in range(1, v+1):\n",
    "    print(parent[i], end=' ')"
   ]
  },
  {
   "cell_type": "code",
   "execution_count": null,
   "metadata": {},
   "outputs": [],
   "source": [
    "# 경로압축 기법\n",
    "def find_parent(parent, x):\n",
    "    if parent[x] != x:\n",
    "        parent[x] = find_parent(parent, parent[x])\n",
    "    return parent[x]"
   ]
  }
 ],
 "metadata": {
  "kernelspec": {
   "display_name": "tf_ds",
   "language": "python",
   "name": "python3"
  },
  "language_info": {
   "codemirror_mode": {
    "name": "ipython",
    "version": 3
   },
   "file_extension": ".py",
   "mimetype": "text/x-python",
   "name": "python",
   "nbconvert_exporter": "python",
   "pygments_lexer": "ipython3",
   "version": "3.9.19"
  }
 },
 "nbformat": 4,
 "nbformat_minor": 2
}
