{
 "cells": [
  {
   "cell_type": "markdown",
   "metadata": {},
   "source": [
    "# 데이터 과제 - Pandas 활용 연습"
   ]
  },
  {
   "cell_type": "code",
   "execution_count": null,
   "metadata": {},
   "outputs": [],
   "source": [
    "import pandas as pd\n",
    "\n",
    "orders_data = {\n",
    "    'order_id': [101, 102, 103, 104, 105, 106, 107, 108, 109, 110],\n",
    "    'user_id': [1, 2, 1, 3, 2, 3, 4, 4, 5, 1],\n",
    "    'product': ['TV', 'Laptop', 'TV', 'Mouse', 'Keyboard', 'Mouse', 'Phone', 'Phone', 'TV', 'Tablet'],\n",
    "    'price': [800000, 1200000, 750000, 50000, 100000, 45000, 900000, 950000, 700000, 300000],\n",
    "    'order_date': ['2024-12-01', '2024-12-03', '2025-01-15', '2025-01-20', '2025-02-10', \n",
    "                   '2025-02-11', '2025-03-01', '2025-03-05', '2025-03-10', '2025-04-01'],\n",
    "    'category': ['Electronics', 'Electronics', 'Electronics', 'Accessories', 'Accessories', \n",
    "                 'Accessories', 'Electronics', 'Electronics', 'Electronics', 'Electronics']\n",
    "}\n",
    "orders_df = pd.DataFrame(orders_data)\n",
    "orders_df['order_date'] = pd.to_datetime(orders_df['order_date'])\n",
    "\n",
    "users_data = {\n",
    "    'user_id': [1, 2, 3, 4, 5],\n",
    "    'age': [25, 32, 40, 28, 36],\n",
    "    'gender': ['남', '여', '남', '여', '남']\n",
    "}\n",
    "users_df = pd.DataFrame(users_data)"
   ]
  },
  {
   "cell_type": "markdown",
   "metadata": {},
   "source": [
    "## 📄 공통 데이터: `orders.csv`, `users.csv`\n",
    "\n",
    "---\n",
    "\n",
    "### ✅ 문제 1. 데이터 불러오기 및 전처리\n",
    "1-1. `orders.csv` 파일을 불러오고, `order_date` 컬럼을 datetime 형식으로 변환하시오.  \n",
    "1-2. 결측치가 있는 행은 제거하고, 총 몇 건의 데이터가 남았는지 출력하시오."
   ]
  },
  {
   "cell_type": "code",
   "execution_count": null,
   "metadata": {},
   "outputs": [
    {
     "name": "stdout",
     "output_type": "stream",
     "text": [
      "남은 데이터 개수 :  10\n"
     ]
    }
   ],
   "source": [
    "orders_df['order_date'] = pd.to_datetime(orders_df['order_date'])\n",
    "orders_df.dropna(inplace=True)\n",
    "\n",
    "print('남은 데이터 개수 : ', len(orders_df))"
   ]
  },
  {
   "cell_type": "markdown",
   "metadata": {},
   "source": [
    "---\n",
    "\n",
    "### ✅ 문제 2. 월별 매출 분석\n",
    "2-1. 월(`YYYY-MM`) 단위로 그룹화하여 매출(`price`) 합계를 계산하시오.  \n",
    "2-2. 가장 매출이 높았던 달은 언제이며, 매출은 얼마인가?"
   ]
  },
  {
   "cell_type": "code",
   "execution_count": null,
   "metadata": {},
   "outputs": [
    {
     "name": "stdout",
     "output_type": "stream",
     "text": [
      "         order_id  user_id    price\n",
      "monthly                            \n",
      "2024-12       203        3  2000000\n",
      "2025-01       207        4   800000\n",
      "2025-02       211        5   145000\n",
      "2025-03       324       13  2550000\n",
      "2025-04       110        1   300000\n",
      "가장 매출 높은 달: 2025-03 매출: 2550000\n"
     ]
    }
   ],
   "source": [
    "orders_df['order_month'] = orders_df['order_date'].dt.to_period('M')\n",
    "monthly_sales = orders_df.groupby('order_month')['price'].sum().sort_values(ascending=False)\n",
    "print(\"가장 매출 높은 달:\", monthly_sales.idxmax(), \"매출:\", monthly_sales.max())"
   ]
  },
  {
   "cell_type": "markdown",
   "metadata": {},
   "source": [
    "---\n",
    "\n",
    "### ✅ 문제 3. 사용자 분석\n",
    "3-1. 사용자별 평균 주문 금액을 계산하고, 상위 5명을 출력하시오.  \n",
    "3-2. 사용자별 주문 횟수를 구하고, 가장 주문을 많이 한 사용자의 ID와 주문 수를 출력하시오."
   ]
  },
  {
   "cell_type": "code",
   "execution_count": 35,
   "metadata": {},
   "outputs": [
    {
     "name": "stdout",
     "output_type": "stream",
     "text": [
      "상위 5명 평균 주문 금액:\n",
      " user_id\n",
      "4    925000.000000\n",
      "5    700000.000000\n",
      "2    650000.000000\n",
      "1    616666.666667\n",
      "3     47500.000000\n",
      "Name: price, dtype: float64\n"
     ]
    }
   ],
   "source": [
    "user_avg_price = orders_df.groupby('user_id')['price'].mean().sort_values(ascending=False).head(5)\n",
    "print(\"상위 5명 평균 주문 금액:\\n\", user_avg_price)"
   ]
  },
  {
   "cell_type": "code",
   "execution_count": 36,
   "metadata": {},
   "outputs": [
    {
     "name": "stdout",
     "output_type": "stream",
     "text": [
      "가장 주문 많이 한 사용자: 1 주문 수: 3\n"
     ]
    }
   ],
   "source": [
    "user_order_count = orders_df['user_id'].value_counts()\n",
    "top_user = user_order_count.idxmax()\n",
    "print(\"가장 주문 많이 한 사용자:\", top_user, \"주문 수:\", user_order_count.max())"
   ]
  },
  {
   "cell_type": "markdown",
   "metadata": {},
   "source": [
    "---\n",
    "\n",
    "### ✅ 문제 4. 카테고리별 인기 상품 분석\n",
    "4-1. 카테고리별로 주문량이 가장 많은 상품명을 출력하시오."
   ]
  },
  {
   "cell_type": "code",
   "execution_count": 40,
   "metadata": {},
   "outputs": [
    {
     "name": "stdout",
     "output_type": "stream",
     "text": [
      "가장 주문이 많은 카테고리 :  Electronics\n"
     ]
    }
   ],
   "source": [
    "cat_order_count = orders_df['category'].value_counts()\n",
    "print(\"가장 주문이 많은 카테고리 : \", cat_order_count.idxmax())"
   ]
  },
  {
   "cell_type": "code",
   "execution_count": 63,
   "metadata": {},
   "outputs": [
    {
     "data": {
      "text/html": [
       "<div>\n",
       "<style scoped>\n",
       "    .dataframe tbody tr th:only-of-type {\n",
       "        vertical-align: middle;\n",
       "    }\n",
       "\n",
       "    .dataframe tbody tr th {\n",
       "        vertical-align: top;\n",
       "    }\n",
       "\n",
       "    .dataframe thead th {\n",
       "        text-align: right;\n",
       "    }\n",
       "</style>\n",
       "<table border=\"1\" class=\"dataframe\">\n",
       "  <thead>\n",
       "    <tr style=\"text-align: right;\">\n",
       "      <th></th>\n",
       "      <th>product</th>\n",
       "      <th>count</th>\n",
       "    </tr>\n",
       "    <tr>\n",
       "      <th>category</th>\n",
       "      <th></th>\n",
       "      <th></th>\n",
       "    </tr>\n",
       "  </thead>\n",
       "  <tbody>\n",
       "    <tr>\n",
       "      <th>Accessories</th>\n",
       "      <td>Mouse</td>\n",
       "      <td>2</td>\n",
       "    </tr>\n",
       "    <tr>\n",
       "      <th>Electronics</th>\n",
       "      <td>TV</td>\n",
       "      <td>3</td>\n",
       "    </tr>\n",
       "  </tbody>\n",
       "</table>\n",
       "</div>"
      ],
      "text/plain": [
       "            product  count\n",
       "category                  \n",
       "Accessories   Mouse      2\n",
       "Electronics      TV      3"
      ]
     },
     "execution_count": 63,
     "metadata": {},
     "output_type": "execute_result"
    }
   ],
   "source": [
    "orders_df.groupby(['category', 'product']).size().reset_index(name='count').sort_values('count', ascending=False).groupby('category').first()"
   ]
  },
  {
   "cell_type": "code",
   "execution_count": 52,
   "metadata": {},
   "outputs": [
    {
     "name": "stdout",
     "output_type": "stream",
     "text": [
      "카테고리별 인기 상품:\n",
      "             product  count\n",
      "category                  \n",
      "Accessories   Mouse      2\n",
      "Electronics      TV      3\n"
     ]
    }
   ],
   "source": [
    "top_products = orders_df.groupby(['category', 'product']).size().reset_index(name='count')\n",
    "top_per_category = top_products.sort_values('count', ascending=False).groupby('category').first()\n",
    "print(\"카테고리별 인기 상품:\\n\", top_per_category)"
   ]
  },
  {
   "cell_type": "markdown",
   "metadata": {},
   "source": [
    "---\n",
    "\n",
    "### ✅ 문제 5. 사용자 정보와 병합 (merge)\n",
    "5-1. `orders.csv`와 `users.csv`를 `user_id` 기준으로 병합하시오.  \n",
    "5-2. 성별(`gender`)별 총 주문 금액의 평균을 계산하시오."
   ]
  },
  {
   "cell_type": "code",
   "execution_count": 65,
   "metadata": {},
   "outputs": [
    {
     "data": {
      "text/html": [
       "<div>\n",
       "<style scoped>\n",
       "    .dataframe tbody tr th:only-of-type {\n",
       "        vertical-align: middle;\n",
       "    }\n",
       "\n",
       "    .dataframe tbody tr th {\n",
       "        vertical-align: top;\n",
       "    }\n",
       "\n",
       "    .dataframe thead th {\n",
       "        text-align: right;\n",
       "    }\n",
       "</style>\n",
       "<table border=\"1\" class=\"dataframe\">\n",
       "  <thead>\n",
       "    <tr style=\"text-align: right;\">\n",
       "      <th></th>\n",
       "      <th>order_id</th>\n",
       "      <th>user_id</th>\n",
       "      <th>product</th>\n",
       "      <th>price</th>\n",
       "      <th>order_date</th>\n",
       "      <th>category</th>\n",
       "      <th>monthly</th>\n",
       "      <th>order_month</th>\n",
       "      <th>age</th>\n",
       "      <th>gender</th>\n",
       "    </tr>\n",
       "  </thead>\n",
       "  <tbody>\n",
       "    <tr>\n",
       "      <th>0</th>\n",
       "      <td>101</td>\n",
       "      <td>1</td>\n",
       "      <td>TV</td>\n",
       "      <td>800000</td>\n",
       "      <td>2024-12-01</td>\n",
       "      <td>Electronics</td>\n",
       "      <td>2024-12</td>\n",
       "      <td>2024-12</td>\n",
       "      <td>25</td>\n",
       "      <td>남</td>\n",
       "    </tr>\n",
       "    <tr>\n",
       "      <th>1</th>\n",
       "      <td>102</td>\n",
       "      <td>2</td>\n",
       "      <td>Laptop</td>\n",
       "      <td>1200000</td>\n",
       "      <td>2024-12-03</td>\n",
       "      <td>Electronics</td>\n",
       "      <td>2024-12</td>\n",
       "      <td>2024-12</td>\n",
       "      <td>32</td>\n",
       "      <td>여</td>\n",
       "    </tr>\n",
       "    <tr>\n",
       "      <th>2</th>\n",
       "      <td>103</td>\n",
       "      <td>1</td>\n",
       "      <td>TV</td>\n",
       "      <td>750000</td>\n",
       "      <td>2025-01-15</td>\n",
       "      <td>Electronics</td>\n",
       "      <td>2025-01</td>\n",
       "      <td>2025-01</td>\n",
       "      <td>25</td>\n",
       "      <td>남</td>\n",
       "    </tr>\n",
       "    <tr>\n",
       "      <th>3</th>\n",
       "      <td>104</td>\n",
       "      <td>3</td>\n",
       "      <td>Mouse</td>\n",
       "      <td>50000</td>\n",
       "      <td>2025-01-20</td>\n",
       "      <td>Accessories</td>\n",
       "      <td>2025-01</td>\n",
       "      <td>2025-01</td>\n",
       "      <td>40</td>\n",
       "      <td>남</td>\n",
       "    </tr>\n",
       "    <tr>\n",
       "      <th>4</th>\n",
       "      <td>105</td>\n",
       "      <td>2</td>\n",
       "      <td>Keyboard</td>\n",
       "      <td>100000</td>\n",
       "      <td>2025-02-10</td>\n",
       "      <td>Accessories</td>\n",
       "      <td>2025-02</td>\n",
       "      <td>2025-02</td>\n",
       "      <td>32</td>\n",
       "      <td>여</td>\n",
       "    </tr>\n",
       "    <tr>\n",
       "      <th>5</th>\n",
       "      <td>106</td>\n",
       "      <td>3</td>\n",
       "      <td>Mouse</td>\n",
       "      <td>45000</td>\n",
       "      <td>2025-02-11</td>\n",
       "      <td>Accessories</td>\n",
       "      <td>2025-02</td>\n",
       "      <td>2025-02</td>\n",
       "      <td>40</td>\n",
       "      <td>남</td>\n",
       "    </tr>\n",
       "    <tr>\n",
       "      <th>6</th>\n",
       "      <td>107</td>\n",
       "      <td>4</td>\n",
       "      <td>Phone</td>\n",
       "      <td>900000</td>\n",
       "      <td>2025-03-01</td>\n",
       "      <td>Electronics</td>\n",
       "      <td>2025-03</td>\n",
       "      <td>2025-03</td>\n",
       "      <td>28</td>\n",
       "      <td>여</td>\n",
       "    </tr>\n",
       "    <tr>\n",
       "      <th>7</th>\n",
       "      <td>108</td>\n",
       "      <td>4</td>\n",
       "      <td>Phone</td>\n",
       "      <td>950000</td>\n",
       "      <td>2025-03-05</td>\n",
       "      <td>Electronics</td>\n",
       "      <td>2025-03</td>\n",
       "      <td>2025-03</td>\n",
       "      <td>28</td>\n",
       "      <td>여</td>\n",
       "    </tr>\n",
       "    <tr>\n",
       "      <th>8</th>\n",
       "      <td>109</td>\n",
       "      <td>5</td>\n",
       "      <td>TV</td>\n",
       "      <td>700000</td>\n",
       "      <td>2025-03-10</td>\n",
       "      <td>Electronics</td>\n",
       "      <td>2025-03</td>\n",
       "      <td>2025-03</td>\n",
       "      <td>36</td>\n",
       "      <td>남</td>\n",
       "    </tr>\n",
       "    <tr>\n",
       "      <th>9</th>\n",
       "      <td>110</td>\n",
       "      <td>1</td>\n",
       "      <td>Tablet</td>\n",
       "      <td>300000</td>\n",
       "      <td>2025-04-01</td>\n",
       "      <td>Electronics</td>\n",
       "      <td>2025-04</td>\n",
       "      <td>2025-04</td>\n",
       "      <td>25</td>\n",
       "      <td>남</td>\n",
       "    </tr>\n",
       "  </tbody>\n",
       "</table>\n",
       "</div>"
      ],
      "text/plain": [
       "   order_id  user_id   product    price order_date     category  monthly  \\\n",
       "0       101        1        TV   800000 2024-12-01  Electronics  2024-12   \n",
       "1       102        2    Laptop  1200000 2024-12-03  Electronics  2024-12   \n",
       "2       103        1        TV   750000 2025-01-15  Electronics  2025-01   \n",
       "3       104        3     Mouse    50000 2025-01-20  Accessories  2025-01   \n",
       "4       105        2  Keyboard   100000 2025-02-10  Accessories  2025-02   \n",
       "5       106        3     Mouse    45000 2025-02-11  Accessories  2025-02   \n",
       "6       107        4     Phone   900000 2025-03-01  Electronics  2025-03   \n",
       "7       108        4     Phone   950000 2025-03-05  Electronics  2025-03   \n",
       "8       109        5        TV   700000 2025-03-10  Electronics  2025-03   \n",
       "9       110        1    Tablet   300000 2025-04-01  Electronics  2025-04   \n",
       "\n",
       "  order_month  age gender  \n",
       "0     2024-12   25      남  \n",
       "1     2024-12   32      여  \n",
       "2     2025-01   25      남  \n",
       "3     2025-01   40      남  \n",
       "4     2025-02   32      여  \n",
       "5     2025-02   40      남  \n",
       "6     2025-03   28      여  \n",
       "7     2025-03   28      여  \n",
       "8     2025-03   36      남  \n",
       "9     2025-04   25      남  "
      ]
     },
     "execution_count": 65,
     "metadata": {},
     "output_type": "execute_result"
    }
   ],
   "source": [
    "merged = pd.merge(orders_df, users_df, on='user_id')\n",
    "merged"
   ]
  },
  {
   "cell_type": "code",
   "execution_count": 72,
   "metadata": {},
   "outputs": [
    {
     "data": {
      "text/plain": [
       "gender\n",
       "남    440833\n",
       "여    787500\n",
       "Name: price, dtype: int64"
      ]
     },
     "execution_count": 72,
     "metadata": {},
     "output_type": "execute_result"
    }
   ],
   "source": [
    "merged.groupby('gender')['price'].mean().astype(int)"
   ]
  },
  {
   "cell_type": "markdown",
   "metadata": {},
   "source": [
    "---\n",
    "\n",
    "### ✅ 문제 6. 피벗 테이블 활용\n",
    "6-1. 월별(`YYYY-MM`)과 성별(`gender`)로 구분된 매출 합계를 피벗 테이블로 생성하시오.  \n",
    "6-2. 매출이 가장 높았던 성별-월 조합과 해당 매출을 출력하시오."
   ]
  },
  {
   "cell_type": "code",
   "execution_count": null,
   "metadata": {},
   "outputs": [],
   "source": []
  },
  {
   "cell_type": "markdown",
   "metadata": {},
   "source": [
    "---\n",
    "\n",
    "### ✅ 문제 7. 사용자 등급 분류 (apply)\n",
    "7-1. 사용자별 평균 주문 금액을 기준으로 아래 기준에 따라 등급을 부여하시오:  \n",
    "- 평균 주문금액 ≥ 100,000원: `'VIP'`  \n",
    "- 평균 주문금액 ≥ 50,000원: `'Gold'`  \n",
    "- 평균 주문금액 < 50,000원: `'Standard'`\n",
    "\n",
    "7-2. 등급이 포함된 테이블을 `user_id`, `grade` 컬럼만 남겨 출력하시오.\n",
    "\n",
    "---"
   ]
  },
  {
   "cell_type": "code",
   "execution_count": null,
   "metadata": {},
   "outputs": [],
   "source": []
  }
 ],
 "metadata": {
  "kernelspec": {
   "display_name": "tf_cap",
   "language": "python",
   "name": "python3"
  },
  "language_info": {
   "codemirror_mode": {
    "name": "ipython",
    "version": 3
   },
   "file_extension": ".py",
   "mimetype": "text/x-python",
   "name": "python",
   "nbconvert_exporter": "python",
   "pygments_lexer": "ipython3",
   "version": "3.9.18"
  }
 },
 "nbformat": 4,
 "nbformat_minor": 2
}
